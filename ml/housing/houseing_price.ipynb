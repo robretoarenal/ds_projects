{
 "cells": [
  {
   "cell_type": "code",
   "execution_count": 2,
   "id": "94f2e604",
   "metadata": {},
   "outputs": [],
   "source": [
    "import pandas as pd\n",
    "import numpy as np\n",
    "import os\n",
    "from sklearn.impute import SimpleImputer \n",
    "from sklearn.preprocessing import OneHotEncoder, StandardScaler\n",
    "from sklearn.model_selection import StratifiedShuffleSplit"
   ]
  },
  {
   "cell_type": "code",
   "execution_count": null,
   "id": "7559be7a",
   "metadata": {},
   "outputs": [],
   "source": [
    "housing_df = pd.read_csv(\"data/housing.csv\")\n",
    "housing_df.head()"
   ]
  },
  {
   "cell_type": "code",
   "execution_count": null,
   "id": "e132ce37",
   "metadata": {},
   "outputs": [],
   "source": [
    "#Check which columns has null values. \n",
    "housing_df.isnull().sum()\n",
    "\n",
    "#housing_df[housing_df.isnull().any(1)]"
   ]
  },
  {
   "cell_type": "code",
   "execution_count": null,
   "id": "c554e9de",
   "metadata": {},
   "outputs": [],
   "source": [
    "#Remove the categorizal column so imputer can be applied. \n",
    "housing_num = housing_df.drop(\"ocean_proximity\", axis=1)"
   ]
  },
  {
   "cell_type": "code",
   "execution_count": null,
   "id": "69bebfc3",
   "metadata": {},
   "outputs": [],
   "source": [
    "#Add the transformed columns excluding the categorical one. \n",
    "housing_df.loc[:,housing_df.columns != 'ocean_proximity'] = SimpleImputer().fit_transform(housing_num)\n",
    "\n",
    "housing_df.isnull().sum()\n",
    "#np.all(np.isnan(housing_num))"
   ]
  },
  {
   "cell_type": "code",
   "execution_count": null,
   "id": "fa20e917",
   "metadata": {},
   "outputs": [],
   "source": [
    "#Create 3 new columns. \n",
    "housing_df[\"rooms_per_household\"] = housing_df[\"total_rooms\"] / housing_df[\"households\"]\n",
    "housing_df[\"population_per_household\"] = housing_df[\"population\"] / housing_df[\"households\"]\n",
    "housing_df[\"bedrooms_per_room\"] = housing_df[\"total_bedrooms\"] / housing_df[\"total_rooms\"]\n",
    "housing_df.head()"
   ]
  },
  {
   "cell_type": "markdown",
   "id": "7a95f468",
   "metadata": {},
   "source": [
    "Standard Scaler"
   ]
  },
  {
   "cell_type": "code",
   "execution_count": null,
   "id": "594ba50d",
   "metadata": {},
   "outputs": [],
   "source": [
    "#Remove the label so scaler can be applied.\n",
    "labels = housing_df[\"median_house_value\"]\n",
    "housing_df.drop(\"median_house_value\", axis=1, inplace=True)\n",
    "housing_df.head()"
   ]
  },
  {
   "cell_type": "code",
   "execution_count": null,
   "id": "e9c5e1e6",
   "metadata": {},
   "outputs": [],
   "source": [
    "#Remove the median income before applying the scaler. \n",
    "median_income = housing_df[\"median_income\"]\n",
    "housing_df.drop(\"median_income\", axis=1, inplace=True)\n",
    "housing_df.head()"
   ]
  },
  {
   "cell_type": "code",
   "execution_count": null,
   "id": "32531d12",
   "metadata": {},
   "outputs": [],
   "source": [
    "#Add the transformed columns excluding the categorical one. \n",
    "housing_num = housing_df.drop(\"ocean_proximity\", axis=1)\n",
    "housing_df.loc[:,housing_df.columns != 'ocean_proximity'] = StandardScaler().fit_transform(housing_num)\n",
    "housing_df.head()"
   ]
  },
  {
   "cell_type": "code",
   "execution_count": null,
   "id": "941b127c",
   "metadata": {},
   "outputs": [],
   "source": [
    "housing_df[\"median_income\"] = median_income\n",
    "housing_df.head()"
   ]
  },
  {
   "cell_type": "code",
   "execution_count": null,
   "id": "be15ce5e",
   "metadata": {},
   "outputs": [],
   "source": [
    "from sklearn.preprocessing import OneHotEncoder\n",
    "\n",
    "# apply one hot enconding to the categorical column. \n",
    "housing_cat = housing_df[[\"ocean_proximity\"]]\n",
    "enconder = OneHotEncoder()\n",
    "arr = enconder.fit_transform(housing_cat).toarray()\n",
    "# add the encoded column back to the dataframe\n",
    "housing_df[\"ocean_proximity\"] = arr.tolist()\n",
    "housing_df.head()"
   ]
  },
  {
   "cell_type": "code",
   "execution_count": null,
   "id": "ac8e90f5",
   "metadata": {},
   "outputs": [],
   "source": [
    "#Return the label to the dataset. \n",
    "housing_df[\"median_house_value\"] = labels\n",
    "housing_df.head()"
   ]
  },
  {
   "cell_type": "code",
   "execution_count": null,
   "id": "4874d3e0",
   "metadata": {},
   "outputs": [],
   "source": [
    "#Create a new column with the income categories. This column will be used to stratisfy the shuffle split. \n",
    "housing_df[\"income_cat\"] = pd.cut(housing_df[\"median_income\"],\n",
    "                                       bins=[0., 1.5, 3.0, 4.5, 6., np.inf],\n",
    "                                       labels=[1, 2, 3, 4, 5])\n",
    "housing_df.head()"
   ]
  },
  {
   "cell_type": "code",
   "execution_count": null,
   "id": "41b57701",
   "metadata": {},
   "outputs": [],
   "source": [
    "split = StratifiedShuffleSplit(n_splits=1,\n",
    "                               test_size=.2,\n",
    "                               random_state=42)\n",
    "\n",
    "# create the train and test sets \n",
    "for train_index, test_index in split.split(housing_df, housing_df[\"income_cat\"]):\n",
    "    strat_train_set = housing_df.loc[train_index]\n",
    "    strat_test_set = housing_df.loc[test_index]"
   ]
  },
  {
   "cell_type": "code",
   "execution_count": null,
   "id": "286fb0d8",
   "metadata": {},
   "outputs": [],
   "source": [
    "for set_ in (strat_train_set, strat_test_set):\n",
    "            set_.drop(\"income_cat\", axis=1, inplace=True)"
   ]
  },
  {
   "cell_type": "code",
   "execution_count": null,
   "id": "017996b3",
   "metadata": {},
   "outputs": [],
   "source": [
    "strat_train_set.head()"
   ]
  },
  {
   "cell_type": "code",
   "execution_count": null,
   "id": "6ae7bcf8",
   "metadata": {},
   "outputs": [],
   "source": [
    "print(strat_train_set.shape)\n",
    "print(strat_test_set.shape)"
   ]
  },
  {
   "cell_type": "markdown",
   "id": "53153a3e",
   "metadata": {},
   "source": [
    "# Random Forest Model"
   ]
  },
  {
   "cell_type": "code",
   "execution_count": null,
   "id": "ba7ddcb8",
   "metadata": {},
   "outputs": [],
   "source": [
    "housing = strat_train_set.drop(\"median_house_value\", axis=1)\n",
    "housing_labels = strat_train_set[\"median_house_value\"].copy()\n",
    "housing_tst = strat_test_set.drop(\"median_house_value\", axis=1)\n",
    "housing_labels_tst = strat_test_set[\"median_house_value\"].copy()"
   ]
  },
  {
   "cell_type": "code",
   "execution_count": null,
   "id": "95f0cc44",
   "metadata": {},
   "outputs": [],
   "source": [
    "housing"
   ]
  },
  {
   "cell_type": "code",
   "execution_count": null,
   "id": "33af68a2",
   "metadata": {},
   "outputs": [],
   "source": [
    "from sklearn.ensemble import RandomForestRegressor\n",
    "rfr = RandomForestRegressor(n_estimators=100, random_state=42)"
   ]
  },
  {
   "cell_type": "code",
   "execution_count": null,
   "id": "318a0c97",
   "metadata": {},
   "outputs": [],
   "source": [
    "#rfr.fit(housing.loc[:,housing.columns != 'ocean_proximity'], housing_labels)\n",
    "rfr.fit(housing, housing_labels)"
   ]
  },
  {
   "cell_type": "code",
   "execution_count": null,
   "id": "893dfa66",
   "metadata": {},
   "outputs": [],
   "source": [
    "y_pred = rfr.predict(housing_tst.loc[:,housing_tst.columns != 'ocean_proximity'])"
   ]
  },
  {
   "cell_type": "code",
   "execution_count": null,
   "id": "f9d032aa",
   "metadata": {},
   "outputs": [],
   "source": [
    "from sklearn.metrics import r2_score"
   ]
  },
  {
   "cell_type": "code",
   "execution_count": null,
   "id": "a6e1e299",
   "metadata": {},
   "outputs": [],
   "source": [
    "r2_score(housing_labels_tst, y_pred)"
   ]
  },
  {
   "cell_type": "code",
   "execution_count": null,
   "id": "13ecb3ce",
   "metadata": {},
   "outputs": [],
   "source": []
  },
  {
   "cell_type": "code",
   "execution_count": null,
   "id": "67d5dc91",
   "metadata": {},
   "outputs": [],
   "source": []
  },
  {
   "cell_type": "markdown",
   "id": "f01c9c22",
   "metadata": {},
   "source": [
    "# Pipelines"
   ]
  },
  {
   "cell_type": "code",
   "execution_count": 12,
   "id": "04dd7490",
   "metadata": {},
   "outputs": [
    {
     "data": {
      "text/html": [
       "<div>\n",
       "<style scoped>\n",
       "    .dataframe tbody tr th:only-of-type {\n",
       "        vertical-align: middle;\n",
       "    }\n",
       "\n",
       "    .dataframe tbody tr th {\n",
       "        vertical-align: top;\n",
       "    }\n",
       "\n",
       "    .dataframe thead th {\n",
       "        text-align: right;\n",
       "    }\n",
       "</style>\n",
       "<table border=\"1\" class=\"dataframe\">\n",
       "  <thead>\n",
       "    <tr style=\"text-align: right;\">\n",
       "      <th></th>\n",
       "      <th>longitude</th>\n",
       "      <th>latitude</th>\n",
       "      <th>housing_median_age</th>\n",
       "      <th>total_rooms</th>\n",
       "      <th>total_bedrooms</th>\n",
       "      <th>population</th>\n",
       "      <th>households</th>\n",
       "      <th>median_income</th>\n",
       "      <th>median_house_value</th>\n",
       "      <th>ocean_proximity</th>\n",
       "    </tr>\n",
       "  </thead>\n",
       "  <tbody>\n",
       "    <tr>\n",
       "      <th>0</th>\n",
       "      <td>-122.23</td>\n",
       "      <td>37.88</td>\n",
       "      <td>41.0</td>\n",
       "      <td>880.0</td>\n",
       "      <td>129.0</td>\n",
       "      <td>322.0</td>\n",
       "      <td>126.0</td>\n",
       "      <td>8.3252</td>\n",
       "      <td>452600.0</td>\n",
       "      <td>NEAR BAY</td>\n",
       "    </tr>\n",
       "    <tr>\n",
       "      <th>1</th>\n",
       "      <td>-122.22</td>\n",
       "      <td>37.86</td>\n",
       "      <td>21.0</td>\n",
       "      <td>7099.0</td>\n",
       "      <td>1106.0</td>\n",
       "      <td>2401.0</td>\n",
       "      <td>1138.0</td>\n",
       "      <td>8.3014</td>\n",
       "      <td>358500.0</td>\n",
       "      <td>NEAR BAY</td>\n",
       "    </tr>\n",
       "    <tr>\n",
       "      <th>2</th>\n",
       "      <td>-122.24</td>\n",
       "      <td>37.85</td>\n",
       "      <td>52.0</td>\n",
       "      <td>1467.0</td>\n",
       "      <td>190.0</td>\n",
       "      <td>496.0</td>\n",
       "      <td>177.0</td>\n",
       "      <td>7.2574</td>\n",
       "      <td>352100.0</td>\n",
       "      <td>NEAR BAY</td>\n",
       "    </tr>\n",
       "    <tr>\n",
       "      <th>3</th>\n",
       "      <td>-122.25</td>\n",
       "      <td>37.85</td>\n",
       "      <td>52.0</td>\n",
       "      <td>1274.0</td>\n",
       "      <td>235.0</td>\n",
       "      <td>558.0</td>\n",
       "      <td>219.0</td>\n",
       "      <td>5.6431</td>\n",
       "      <td>341300.0</td>\n",
       "      <td>NEAR BAY</td>\n",
       "    </tr>\n",
       "    <tr>\n",
       "      <th>4</th>\n",
       "      <td>-122.25</td>\n",
       "      <td>37.85</td>\n",
       "      <td>52.0</td>\n",
       "      <td>1627.0</td>\n",
       "      <td>280.0</td>\n",
       "      <td>565.0</td>\n",
       "      <td>259.0</td>\n",
       "      <td>3.8462</td>\n",
       "      <td>342200.0</td>\n",
       "      <td>NEAR BAY</td>\n",
       "    </tr>\n",
       "  </tbody>\n",
       "</table>\n",
       "</div>"
      ],
      "text/plain": [
       "   longitude  latitude  housing_median_age  total_rooms  total_bedrooms  \\\n",
       "0    -122.23     37.88                41.0        880.0           129.0   \n",
       "1    -122.22     37.86                21.0       7099.0          1106.0   \n",
       "2    -122.24     37.85                52.0       1467.0           190.0   \n",
       "3    -122.25     37.85                52.0       1274.0           235.0   \n",
       "4    -122.25     37.85                52.0       1627.0           280.0   \n",
       "\n",
       "   population  households  median_income  median_house_value ocean_proximity  \n",
       "0       322.0       126.0         8.3252            452600.0        NEAR BAY  \n",
       "1      2401.0      1138.0         8.3014            358500.0        NEAR BAY  \n",
       "2       496.0       177.0         7.2574            352100.0        NEAR BAY  \n",
       "3       558.0       219.0         5.6431            341300.0        NEAR BAY  \n",
       "4       565.0       259.0         3.8462            342200.0        NEAR BAY  "
      ]
     },
     "execution_count": 12,
     "metadata": {},
     "output_type": "execute_result"
    }
   ],
   "source": [
    "housing_df = pd.read_csv(\"data/housing.csv\")\n",
    "housing_df.head()"
   ]
  },
  {
   "cell_type": "code",
   "execution_count": 4,
   "id": "e0dcde83",
   "metadata": {},
   "outputs": [],
   "source": [
    "housing_df[\"income_cat\"] = pd.cut(housing_df[\"median_income\"],\n",
    "                                       bins=[0., 1.5, 3.0, 4.5, 6., np.inf],\n",
    "                                       labels=[1, 2, 3, 4, 5])\n",
    "\n",
    "split = StratifiedShuffleSplit(n_splits=1,\n",
    "                               test_size=.2,\n",
    "                               random_state=42)\n",
    "\n",
    "# create the train and test sets \n",
    "for train_index, test_index in split.split(housing_df, housing_df[\"income_cat\"]):\n",
    "    strat_train_set = housing_df.loc[train_index]\n",
    "    strat_test_set = housing_df.loc[test_index]\n",
    "    \n",
    "for set_ in (strat_train_set, strat_test_set):\n",
    "            set_.drop(\"income_cat\", axis=1, inplace=True)"
   ]
  },
  {
   "cell_type": "code",
   "execution_count": 13,
   "id": "717fcd3a",
   "metadata": {},
   "outputs": [],
   "source": [
    "housing = strat_train_set.drop(\"median_house_value\", axis=1) # drop labels for training set\n",
    "housing_labels = strat_train_set[\"median_house_value\"].copy()\n",
    "housing_num = housing.drop(\"ocean_proximity\", axis=1)"
   ]
  },
  {
   "cell_type": "code",
   "execution_count": 15,
   "id": "71264779",
   "metadata": {},
   "outputs": [],
   "source": [
    "from sklearn.pipeline import Pipeline\n",
    "from sklearn.preprocessing import StandardScaler\n",
    "from sklearn.compose import ColumnTransformer\n",
    "\n",
    "num_pipeline_fulltest = Pipeline([\n",
    "        ('imputer', SimpleImputer(strategy=\"median\")),\n",
    "        #('attribs_adder', CombinedAttributesAdder()),\n",
    "        ('std_scaler', StandardScaler()),\n",
    "    ])\n",
    "\n",
    "#housing_num_tr_fulltest = num_pipeline_fulltest.fit_transform(housing_num)\n",
    "\n",
    "num_attribs = list(housing_num)\n",
    "cat_attribs = [\"ocean_proximity\"]\n",
    "\n",
    "full_pipeline_fulltest = ColumnTransformer([\n",
    "        (\"num\", num_pipeline_fulltest, num_attribs),\n",
    "        (\"cat\", OneHotEncoder(), cat_attribs),\n",
    "    ])\n",
    "\n",
    "housing_prepared_fulltest = full_pipeline_fulltest.fit_transform(housing)"
   ]
  },
  {
   "cell_type": "code",
   "execution_count": 17,
   "id": "38ab60f5",
   "metadata": {},
   "outputs": [
    {
     "data": {
      "text/plain": [
       "array([-0.94135046,  1.34743822,  0.02756357,  0.58477745,  0.64037127,\n",
       "        0.73260236,  0.55628602, -0.8936472 ,  0.        ,  1.        ,\n",
       "        0.        ,  0.        ,  0.        ])"
      ]
     },
     "execution_count": 17,
     "metadata": {},
     "output_type": "execute_result"
    }
   ],
   "source": [
    "housing_prepared_fulltest[0]"
   ]
  },
  {
   "cell_type": "code",
   "execution_count": null,
   "id": "e525b4d5",
   "metadata": {},
   "outputs": [],
   "source": []
  }
 ],
 "metadata": {
  "kernelspec": {
   "display_name": "Python 3 (ipykernel)",
   "language": "python",
   "name": "python3"
  },
  "language_info": {
   "codemirror_mode": {
    "name": "ipython",
    "version": 3
   },
   "file_extension": ".py",
   "mimetype": "text/x-python",
   "name": "python",
   "nbconvert_exporter": "python",
   "pygments_lexer": "ipython3",
   "version": "3.9.7"
  },
  "toc": {
   "base_numbering": 1,
   "nav_menu": {},
   "number_sections": true,
   "sideBar": true,
   "skip_h1_title": false,
   "title_cell": "Table of Contents",
   "title_sidebar": "Contents",
   "toc_cell": false,
   "toc_position": {
    "height": "calc(100% - 180px)",
    "left": "10px",
    "top": "150px",
    "width": "216.016px"
   },
   "toc_section_display": true,
   "toc_window_display": true
  }
 },
 "nbformat": 4,
 "nbformat_minor": 5
}
