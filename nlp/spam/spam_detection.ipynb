{
 "cells": [
  {
   "cell_type": "code",
   "execution_count": null,
   "id": "3894375b",
   "metadata": {},
   "outputs": [],
   "source": [
    "import pandas as pd\n",
    "from sklearn.pipeline import Pipeline\n",
    "from sklearn.feature_extraction.text import TfidfVectorizer\n",
    "from sklearn.svm import SVC\n",
    "from sklearn.model_selection import train_test_split"
   ]
  },
  {
   "cell_type": "code",
   "execution_count": null,
   "id": "dc9031d5",
   "metadata": {},
   "outputs": [],
   "source": [
    "df_spam = pd.read_csv('data/spam.csv', encoding='ISO-8859-1')\n",
    "df_spam = df_spam.drop([\"Unnamed: 2\", \"Unnamed: 3\", \"Unnamed: 4\"], axis=1)\n",
    "df_spam.columns = ['labels', 'data']\n",
    "df_spam['binary_labels'] = df_spam['labels'].map({'ham':0, 'spam':1})"
   ]
  },
  {
   "cell_type": "code",
   "execution_count": null,
   "id": "7a89b646",
   "metadata": {},
   "outputs": [],
   "source": [
    "df_spam.head()"
   ]
  },
  {
   "cell_type": "code",
   "execution_count": null,
   "id": "45a86217",
   "metadata": {},
   "outputs": [],
   "source": [
    "df_spam[\"labels\"].value_counts()"
   ]
  },
  {
   "cell_type": "code",
   "execution_count": null,
   "id": "c9ebaf40",
   "metadata": {},
   "outputs": [],
   "source": [
    "tfidf = TfidfVectorizer(decode_error='ignore')\n",
    "X_tfidf = tfidf.fit_transform(df_spam['data'])"
   ]
  },
  {
   "cell_type": "code",
   "execution_count": null,
   "id": "6cb2ea9a",
   "metadata": {},
   "outputs": [],
   "source": [
    "tfidf.get_feature_names_out().shape"
   ]
  },
  {
   "cell_type": "code",
   "execution_count": null,
   "id": "6251ee28",
   "metadata": {},
   "outputs": [],
   "source": [
    "Xtrain_tfidf, Xtest_tfidf, Ytrain_tfidf, Ytest_tfidf = train_test_split(X_tfidf, df_spam['binary_labels'], test_size=0.2)\n",
    "print(Xtrain_tfidf.shape)\n",
    "print(Xtest_tfidf.shape)"
   ]
  },
  {
   "cell_type": "code",
   "execution_count": null,
   "id": "b59d8e24",
   "metadata": {},
   "outputs": [],
   "source": [
    "model_tfidf = SVC(kernel='linear', C=2.)\n",
    "model_tfidf.fit(Xtrain_tfidf, Ytrain_tfidf)"
   ]
  },
  {
   "cell_type": "code",
   "execution_count": null,
   "id": "9108494f",
   "metadata": {},
   "outputs": [],
   "source": [
    "from sklearn.ensemble import RandomForestClassifier\n",
    "model_rf_tfidf = RandomForestClassifier()\n",
    "model_rf_tfidf.fit(Xtrain_tfidf, Ytrain_tfidf)"
   ]
  },
  {
   "cell_type": "code",
   "execution_count": null,
   "id": "2cff830d",
   "metadata": {},
   "outputs": [],
   "source": [
    "model_tfidf.score(Xtrain_tfidf, Ytrain_tfidf)"
   ]
  },
  {
   "cell_type": "code",
   "execution_count": null,
   "id": "1d7e3bae",
   "metadata": {},
   "outputs": [],
   "source": [
    "model_tfidf.score(Xtest_tfidf, Ytest_tfidf)"
   ]
  },
  {
   "cell_type": "code",
   "execution_count": null,
   "id": "410a9c1d",
   "metadata": {},
   "outputs": [],
   "source": [
    "df_spam['predictions'] = model_tfidf.predict(X_tfidf)\n",
    "df_spam.head()"
   ]
  },
  {
   "cell_type": "code",
   "execution_count": null,
   "id": "e7bbf681",
   "metadata": {},
   "outputs": [],
   "source": [
    "#We want precision so that the predicted spams are really spam. TP/TP+FP\n",
    "#FALSE POSITIVES\n",
    "sneaky_spam = df_spam[(df_spam['predictions'] == 0) & (df_spam['binary_labels'] == 1)]['data']\n",
    "for msg in sneaky_spam:\n",
    "  print(msg)"
   ]
  },
  {
   "cell_type": "code",
   "execution_count": null,
   "id": "2bcc3a18",
   "metadata": {},
   "outputs": [],
   "source": [
    "from sklearn.metrics import confusion_matrix #TN-FP FN-TP\n",
    "print(confusion_matrix(Ytest_tfidf, model_tfidf.predict(Xtest_tfidf)))"
   ]
  },
  {
   "cell_type": "code",
   "execution_count": null,
   "id": "aee815cd",
   "metadata": {},
   "outputs": [],
   "source": [
    "from sklearn.metrics import classification_report\n",
    "print(classification_report(Ytest_tfidf, model_tfidf.predict(Xtest_tfidf)))"
   ]
  },
  {
   "cell_type": "code",
   "execution_count": null,
   "id": "5dbfc3cd",
   "metadata": {},
   "outputs": [],
   "source": []
  },
  {
   "cell_type": "code",
   "execution_count": 1,
   "id": "eb63a9be",
   "metadata": {},
   "outputs": [
    {
     "name": "stdout",
     "output_type": "stream",
     "text": [
      "/usr/src/nlp/spam\n"
     ]
    },
    {
     "data": {
      "text/plain": [
       "array([[949,   0],\n",
       "       [  5, 161]])"
      ]
     },
     "execution_count": 1,
     "metadata": {},
     "output_type": "execute_result"
    }
   ],
   "source": [
    "from utils_spam import SpamTrain\n",
    "t = SpamTrain()\n",
    "t.analyseModel()"
   ]
  },
  {
   "cell_type": "code",
   "execution_count": null,
   "id": "685a4ca6",
   "metadata": {},
   "outputs": [],
   "source": [
    "import os\n",
    "import pathlib\n",
    "import joblib\n",
    "from sklearn.model_selection import train_test_split\n",
    "from sklearn.feature_extraction.text import TfidfVectorizer\n",
    "\n",
    "model_path = os.path.join(str(pathlib.Path().absolute()), \"model\")\n",
    "model_file = model_path + \"/svc_tfidf.pkl\"\n",
    "model = joblib.load(model_file)\n",
    "df_spam = t._loadData('data')\n",
    "x_train, x_test, y_train, y_test = t._train_test_split(df_spam['data'], df_spam['binary_labels'])\n",
    "#tfidf = TfidfVectorizer(decode_error='ignore')\n",
    "#X_test_tfidf = tfidf.fit_transform(x_test)"
   ]
  },
  {
   "cell_type": "code",
   "execution_count": null,
   "id": "0aa7c4b6",
   "metadata": {},
   "outputs": [],
   "source": [
    "model\n",
    "print(y_test.shape)\n",
    "print(y_train.shape)"
   ]
  },
  {
   "cell_type": "code",
   "execution_count": null,
   "id": "b326664c",
   "metadata": {},
   "outputs": [],
   "source": [
    "X_test_tfidf.toarray()\n",
    "model.predict(X_test_tfidf)"
   ]
  },
  {
   "cell_type": "code",
   "execution_count": null,
   "id": "4cbbe5fc",
   "metadata": {},
   "outputs": [],
   "source": [
    "from sklearn.metrics import confusion_matrix\n",
    "confusion_matrix(y_test, model.predict(x_test))"
   ]
  },
  {
   "cell_type": "code",
   "execution_count": null,
   "id": "f12bdccb",
   "metadata": {},
   "outputs": [],
   "source": [
    "from utils_spam import SpamTrain"
   ]
  },
  {
   "cell_type": "code",
   "execution_count": null,
   "id": "5adbe027",
   "metadata": {},
   "outputs": [],
   "source": [
    "t = SpamTrain()\n",
    "df_spam = t._loadData('data')\n",
    "df_spam.head()"
   ]
  },
  {
   "cell_type": "code",
   "execution_count": null,
   "id": "e1ad4ce9",
   "metadata": {},
   "outputs": [],
   "source": [
    "df_spam\n",
    "#df_spam.groupby('labels').nunique()\n",
    "df_spam[\"labels\"].value_counts()"
   ]
  },
  {
   "cell_type": "code",
   "execution_count": null,
   "id": "fe9806e6",
   "metadata": {},
   "outputs": [],
   "source": [
    "t.train()"
   ]
  },
  {
   "cell_type": "code",
   "execution_count": null,
   "id": "34c32992",
   "metadata": {},
   "outputs": [],
   "source": [
    "from pickle import dump, load\n",
    "import sys,os\n",
    "import pathlib\n",
    "import joblib\n",
    "\n",
    "model_path = os.path.join(str(pathlib.Path().absolute()), \"model\")\n",
    "model_file = model_path + \"/svc_tfidf.pkl\"\n",
    "model = joblib.load(model_file)"
   ]
  },
  {
   "cell_type": "code",
   "execution_count": null,
   "id": "81791123",
   "metadata": {},
   "outputs": [],
   "source": [
    "df_spam[df_spam[\"labels\"]=='spam'][\"data\"]"
   ]
  },
  {
   "cell_type": "code",
   "execution_count": null,
   "id": "e3078958",
   "metadata": {},
   "outputs": [],
   "source": [
    "model.predict([\"WINNER!! You won 500 USD! please confirm here your bank account to transfer you the money.\",\n",
    "               \"\"])"
   ]
  },
  {
   "cell_type": "code",
   "execution_count": null,
   "id": "04807a8e",
   "metadata": {},
   "outputs": [],
   "source": []
  }
 ],
 "metadata": {
  "kernelspec": {
   "display_name": "Python 3 (ipykernel)",
   "language": "python",
   "name": "python3"
  },
  "language_info": {
   "codemirror_mode": {
    "name": "ipython",
    "version": 3
   },
   "file_extension": ".py",
   "mimetype": "text/x-python",
   "name": "python",
   "nbconvert_exporter": "python",
   "pygments_lexer": "ipython3",
   "version": "3.7.12"
  }
 },
 "nbformat": 4,
 "nbformat_minor": 5
}
