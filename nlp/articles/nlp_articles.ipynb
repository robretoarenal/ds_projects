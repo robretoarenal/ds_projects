{
 "cells": [
  {
   "cell_type": "code",
   "execution_count": null,
   "id": "1122c422",
   "metadata": {},
   "outputs": [],
   "source": [
    "from utils_articles import TopicTrain"
   ]
  },
  {
   "cell_type": "code",
   "execution_count": null,
   "id": "3065941a",
   "metadata": {},
   "outputs": [],
   "source": [
    "TopicTrain('model')._loadArticles('data')"
   ]
  },
  {
   "cell_type": "code",
   "execution_count": null,
   "id": "8c868214",
   "metadata": {},
   "outputs": [],
   "source": [
    "TopicTrain('model').train()"
   ]
  },
  {
   "cell_type": "code",
   "execution_count": null,
   "id": "0bfa6331",
   "metadata": {},
   "outputs": [],
   "source": [
    "import os\n",
    "import pandas as pd\n",
    "def _loadArticles(path):\n",
    "        cat_article = []\n",
    "        for subdir, dirs, files in os.walk(path):\n",
    "            #print(subdir,dirs,files)\n",
    "            for file in files:\n",
    "                if '.txt' in file:\n",
    "                    category = subdir.split('/')[-1]\n",
    "                    f = open(os.path.join(subdir, file),'r')\n",
    "                    lines = f.readlines()\n",
    "                    lines = ' '.join(lines).replace('\\n','')\n",
    "                    #list of lists: [category,article]\n",
    "                    cat_article.append([category,lines])\n",
    "                    f.close()\n",
    "        data = pd.DataFrame(cat_article)\n",
    "        data.columns = ['category','article']\n",
    "        return data"
   ]
  },
  {
   "cell_type": "code",
   "execution_count": null,
   "id": "3486aabd",
   "metadata": {},
   "outputs": [],
   "source": [
    "_loadArticles('data')"
   ]
  },
  {
   "cell_type": "code",
   "execution_count": null,
   "id": "b64baa52",
   "metadata": {},
   "outputs": [],
   "source": []
  }
 ],
 "metadata": {
  "kernelspec": {
   "display_name": "Python 3 (ipykernel)",
   "language": "python",
   "name": "python3"
  },
  "language_info": {
   "codemirror_mode": {
    "name": "ipython",
    "version": 3
   },
   "file_extension": ".py",
   "mimetype": "text/x-python",
   "name": "python",
   "nbconvert_exporter": "python",
   "pygments_lexer": "ipython3",
   "version": "3.7.10"
  }
 },
 "nbformat": 4,
 "nbformat_minor": 5
}
