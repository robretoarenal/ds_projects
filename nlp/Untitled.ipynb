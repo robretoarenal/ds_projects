{
 "cells": [
  {
   "cell_type": "code",
   "execution_count": null,
   "id": "b8d73932",
   "metadata": {},
   "outputs": [],
   "source": [
    "import pandas as pd\n",
    "import numpy as np \n",
    "import matplotlib.pyplot as plt\n",
    "import en_core_web_sm\n",
    "from sklearn.ensemble import RandomForestClassifier"
   ]
  },
  {
   "cell_type": "code",
   "execution_count": null,
   "id": "1c4311e5",
   "metadata": {},
   "outputs": [],
   "source": [
    "nlp = en_core_web_sm.load()"
   ]
  },
  {
   "cell_type": "code",
   "execution_count": null,
   "id": "82fdd134",
   "metadata": {},
   "outputs": [],
   "source": [
    "!conda env list"
   ]
  },
  {
   "cell_type": "code",
   "execution_count": null,
   "id": "785ad507",
   "metadata": {},
   "outputs": [],
   "source": [
    "import joblib\n",
    "import os, pathlib"
   ]
  },
  {
   "cell_type": "code",
   "execution_count": null,
   "id": "7cb19a66",
   "metadata": {},
   "outputs": [],
   "source": [
    "model_path = os.path.join(str(pathlib.Path().absolute()), \"reviews/model\")\n",
    "model_file = model_path + \"/logreg_tfidf.pkl\""
   ]
  },
  {
   "cell_type": "code",
   "execution_count": null,
   "id": "a236f87a",
   "metadata": {},
   "outputs": [],
   "source": [
    "model_file =\"reviews/model/logreg_tfidf.pkl\""
   ]
  },
  {
   "cell_type": "code",
   "execution_count": null,
   "id": "ef63e46e",
   "metadata": {},
   "outputs": [],
   "source": [
    "model = joblib.load(model_file)"
   ]
  },
  {
   "cell_type": "code",
   "execution_count": null,
   "id": "575c0b38",
   "metadata": {},
   "outputs": [],
   "source": [
    "%cd reviews"
   ]
  },
  {
   "cell_type": "code",
   "execution_count": null,
   "id": "3897bb32",
   "metadata": {},
   "outputs": [],
   "source": [
    "!pwd"
   ]
  }
 ],
 "metadata": {
  "kernelspec": {
   "display_name": "Python 3 (ipykernel)",
   "language": "python",
   "name": "python3"
  },
  "language_info": {
   "codemirror_mode": {
    "name": "ipython",
    "version": 3
   },
   "file_extension": ".py",
   "mimetype": "text/x-python",
   "name": "python",
   "nbconvert_exporter": "python",
   "pygments_lexer": "ipython3",
   "version": "3.7.10"
  }
 },
 "nbformat": 4,
 "nbformat_minor": 5
}
